{
  "cells": [
    {
      "cell_type": "code",
      "source": [],
      "metadata": {
        "id": "2KXxo-psTxZV"
      },
      "id": "2KXxo-psTxZV",
      "execution_count": 9,
      "outputs": []
    },
    {
      "cell_type": "code",
      "execution_count": 8,
      "id": "a1da6557",
      "metadata": {
        "id": "a1da6557",
        "outputId": "06930bb2-d0dd-4e1f-9d0e-794d0be7c00c",
        "colab": {
          "base_uri": "https://localhost:8080/",
          "height": 206
        }
      },
      "outputs": [
        {
          "output_type": "execute_result",
          "data": {
            "text/plain": [
              "       Id                Date   Type  TrueValue  GuessValue  Error  Point1  \\\n",
              "25  9tcrn  2/11/2024 13:27:55    Bar  11.363636          10   0.57       5   \n",
              "26  9tcrn  2/11/2024 13:28:04    Bar  41.666667          50   3.08      30   \n",
              "27  9tcrn  2/11/2024 13:28:14    Bar  87.096774          90   1.60      54   \n",
              "28  9tcrn  2/11/2024 13:28:34    Bar  30.526316          20   3.41      29   \n",
              "29  9tcrn  2/11/2024 13:28:59  Radar  40.000000          33   2.83      38   \n",
              "\n",
              "    Point2  \n",
              "25      44  \n",
              "26      72  \n",
              "27      62  \n",
              "28      95  \n",
              "29      95  "
            ],
            "text/html": [
              "\n",
              "  <div id=\"df-56518474-de59-43af-80ea-4209c54756d7\" class=\"colab-df-container\">\n",
              "    <div>\n",
              "<style scoped>\n",
              "    .dataframe tbody tr th:only-of-type {\n",
              "        vertical-align: middle;\n",
              "    }\n",
              "\n",
              "    .dataframe tbody tr th {\n",
              "        vertical-align: top;\n",
              "    }\n",
              "\n",
              "    .dataframe thead th {\n",
              "        text-align: right;\n",
              "    }\n",
              "</style>\n",
              "<table border=\"1\" class=\"dataframe\">\n",
              "  <thead>\n",
              "    <tr style=\"text-align: right;\">\n",
              "      <th></th>\n",
              "      <th>Id</th>\n",
              "      <th>Date</th>\n",
              "      <th>Type</th>\n",
              "      <th>TrueValue</th>\n",
              "      <th>GuessValue</th>\n",
              "      <th>Error</th>\n",
              "      <th>Point1</th>\n",
              "      <th>Point2</th>\n",
              "    </tr>\n",
              "  </thead>\n",
              "  <tbody>\n",
              "    <tr>\n",
              "      <th>25</th>\n",
              "      <td>9tcrn</td>\n",
              "      <td>2/11/2024 13:27:55</td>\n",
              "      <td>Bar</td>\n",
              "      <td>11.363636</td>\n",
              "      <td>10</td>\n",
              "      <td>0.57</td>\n",
              "      <td>5</td>\n",
              "      <td>44</td>\n",
              "    </tr>\n",
              "    <tr>\n",
              "      <th>26</th>\n",
              "      <td>9tcrn</td>\n",
              "      <td>2/11/2024 13:28:04</td>\n",
              "      <td>Bar</td>\n",
              "      <td>41.666667</td>\n",
              "      <td>50</td>\n",
              "      <td>3.08</td>\n",
              "      <td>30</td>\n",
              "      <td>72</td>\n",
              "    </tr>\n",
              "    <tr>\n",
              "      <th>27</th>\n",
              "      <td>9tcrn</td>\n",
              "      <td>2/11/2024 13:28:14</td>\n",
              "      <td>Bar</td>\n",
              "      <td>87.096774</td>\n",
              "      <td>90</td>\n",
              "      <td>1.60</td>\n",
              "      <td>54</td>\n",
              "      <td>62</td>\n",
              "    </tr>\n",
              "    <tr>\n",
              "      <th>28</th>\n",
              "      <td>9tcrn</td>\n",
              "      <td>2/11/2024 13:28:34</td>\n",
              "      <td>Bar</td>\n",
              "      <td>30.526316</td>\n",
              "      <td>20</td>\n",
              "      <td>3.41</td>\n",
              "      <td>29</td>\n",
              "      <td>95</td>\n",
              "    </tr>\n",
              "    <tr>\n",
              "      <th>29</th>\n",
              "      <td>9tcrn</td>\n",
              "      <td>2/11/2024 13:28:59</td>\n",
              "      <td>Radar</td>\n",
              "      <td>40.000000</td>\n",
              "      <td>33</td>\n",
              "      <td>2.83</td>\n",
              "      <td>38</td>\n",
              "      <td>95</td>\n",
              "    </tr>\n",
              "  </tbody>\n",
              "</table>\n",
              "</div>\n",
              "    <div class=\"colab-df-buttons\">\n",
              "\n",
              "  <div class=\"colab-df-container\">\n",
              "    <button class=\"colab-df-convert\" onclick=\"convertToInteractive('df-56518474-de59-43af-80ea-4209c54756d7')\"\n",
              "            title=\"Convert this dataframe to an interactive table.\"\n",
              "            style=\"display:none;\">\n",
              "\n",
              "  <svg xmlns=\"http://www.w3.org/2000/svg\" height=\"24px\" viewBox=\"0 -960 960 960\">\n",
              "    <path d=\"M120-120v-720h720v720H120Zm60-500h600v-160H180v160Zm220 220h160v-160H400v160Zm0 220h160v-160H400v160ZM180-400h160v-160H180v160Zm440 0h160v-160H620v160ZM180-180h160v-160H180v160Zm440 0h160v-160H620v160Z\"/>\n",
              "  </svg>\n",
              "    </button>\n",
              "\n",
              "  <style>\n",
              "    .colab-df-container {\n",
              "      display:flex;\n",
              "      gap: 12px;\n",
              "    }\n",
              "\n",
              "    .colab-df-convert {\n",
              "      background-color: #E8F0FE;\n",
              "      border: none;\n",
              "      border-radius: 50%;\n",
              "      cursor: pointer;\n",
              "      display: none;\n",
              "      fill: #1967D2;\n",
              "      height: 32px;\n",
              "      padding: 0 0 0 0;\n",
              "      width: 32px;\n",
              "    }\n",
              "\n",
              "    .colab-df-convert:hover {\n",
              "      background-color: #E2EBFA;\n",
              "      box-shadow: 0px 1px 2px rgba(60, 64, 67, 0.3), 0px 1px 3px 1px rgba(60, 64, 67, 0.15);\n",
              "      fill: #174EA6;\n",
              "    }\n",
              "\n",
              "    .colab-df-buttons div {\n",
              "      margin-bottom: 4px;\n",
              "    }\n",
              "\n",
              "    [theme=dark] .colab-df-convert {\n",
              "      background-color: #3B4455;\n",
              "      fill: #D2E3FC;\n",
              "    }\n",
              "\n",
              "    [theme=dark] .colab-df-convert:hover {\n",
              "      background-color: #434B5C;\n",
              "      box-shadow: 0px 1px 3px 1px rgba(0, 0, 0, 0.15);\n",
              "      filter: drop-shadow(0px 1px 2px rgba(0, 0, 0, 0.3));\n",
              "      fill: #FFFFFF;\n",
              "    }\n",
              "  </style>\n",
              "\n",
              "    <script>\n",
              "      const buttonEl =\n",
              "        document.querySelector('#df-56518474-de59-43af-80ea-4209c54756d7 button.colab-df-convert');\n",
              "      buttonEl.style.display =\n",
              "        google.colab.kernel.accessAllowed ? 'block' : 'none';\n",
              "\n",
              "      async function convertToInteractive(key) {\n",
              "        const element = document.querySelector('#df-56518474-de59-43af-80ea-4209c54756d7');\n",
              "        const dataTable =\n",
              "          await google.colab.kernel.invokeFunction('convertToInteractive',\n",
              "                                                    [key], {});\n",
              "        if (!dataTable) return;\n",
              "\n",
              "        const docLinkHtml = 'Like what you see? Visit the ' +\n",
              "          '<a target=\"_blank\" href=https://colab.research.google.com/notebooks/data_table.ipynb>data table notebook</a>'\n",
              "          + ' to learn more about interactive tables.';\n",
              "        element.innerHTML = '';\n",
              "        dataTable['output_type'] = 'display_data';\n",
              "        await google.colab.output.renderOutput(dataTable, element);\n",
              "        const docLink = document.createElement('div');\n",
              "        docLink.innerHTML = docLinkHtml;\n",
              "        element.appendChild(docLink);\n",
              "      }\n",
              "    </script>\n",
              "  </div>\n",
              "\n",
              "\n",
              "<div id=\"df-f66be3a0-2903-4125-a5df-3c350c882e58\">\n",
              "  <button class=\"colab-df-quickchart\" onclick=\"quickchart('df-f66be3a0-2903-4125-a5df-3c350c882e58')\"\n",
              "            title=\"Suggest charts\"\n",
              "            style=\"display:none;\">\n",
              "\n",
              "<svg xmlns=\"http://www.w3.org/2000/svg\" height=\"24px\"viewBox=\"0 0 24 24\"\n",
              "     width=\"24px\">\n",
              "    <g>\n",
              "        <path d=\"M19 3H5c-1.1 0-2 .9-2 2v14c0 1.1.9 2 2 2h14c1.1 0 2-.9 2-2V5c0-1.1-.9-2-2-2zM9 17H7v-7h2v7zm4 0h-2V7h2v10zm4 0h-2v-4h2v4z\"/>\n",
              "    </g>\n",
              "</svg>\n",
              "  </button>\n",
              "\n",
              "<style>\n",
              "  .colab-df-quickchart {\n",
              "      --bg-color: #E8F0FE;\n",
              "      --fill-color: #1967D2;\n",
              "      --hover-bg-color: #E2EBFA;\n",
              "      --hover-fill-color: #174EA6;\n",
              "      --disabled-fill-color: #AAA;\n",
              "      --disabled-bg-color: #DDD;\n",
              "  }\n",
              "\n",
              "  [theme=dark] .colab-df-quickchart {\n",
              "      --bg-color: #3B4455;\n",
              "      --fill-color: #D2E3FC;\n",
              "      --hover-bg-color: #434B5C;\n",
              "      --hover-fill-color: #FFFFFF;\n",
              "      --disabled-bg-color: #3B4455;\n",
              "      --disabled-fill-color: #666;\n",
              "  }\n",
              "\n",
              "  .colab-df-quickchart {\n",
              "    background-color: var(--bg-color);\n",
              "    border: none;\n",
              "    border-radius: 50%;\n",
              "    cursor: pointer;\n",
              "    display: none;\n",
              "    fill: var(--fill-color);\n",
              "    height: 32px;\n",
              "    padding: 0;\n",
              "    width: 32px;\n",
              "  }\n",
              "\n",
              "  .colab-df-quickchart:hover {\n",
              "    background-color: var(--hover-bg-color);\n",
              "    box-shadow: 0 1px 2px rgba(60, 64, 67, 0.3), 0 1px 3px 1px rgba(60, 64, 67, 0.15);\n",
              "    fill: var(--button-hover-fill-color);\n",
              "  }\n",
              "\n",
              "  .colab-df-quickchart-complete:disabled,\n",
              "  .colab-df-quickchart-complete:disabled:hover {\n",
              "    background-color: var(--disabled-bg-color);\n",
              "    fill: var(--disabled-fill-color);\n",
              "    box-shadow: none;\n",
              "  }\n",
              "\n",
              "  .colab-df-spinner {\n",
              "    border: 2px solid var(--fill-color);\n",
              "    border-color: transparent;\n",
              "    border-bottom-color: var(--fill-color);\n",
              "    animation:\n",
              "      spin 1s steps(1) infinite;\n",
              "  }\n",
              "\n",
              "  @keyframes spin {\n",
              "    0% {\n",
              "      border-color: transparent;\n",
              "      border-bottom-color: var(--fill-color);\n",
              "      border-left-color: var(--fill-color);\n",
              "    }\n",
              "    20% {\n",
              "      border-color: transparent;\n",
              "      border-left-color: var(--fill-color);\n",
              "      border-top-color: var(--fill-color);\n",
              "    }\n",
              "    30% {\n",
              "      border-color: transparent;\n",
              "      border-left-color: var(--fill-color);\n",
              "      border-top-color: var(--fill-color);\n",
              "      border-right-color: var(--fill-color);\n",
              "    }\n",
              "    40% {\n",
              "      border-color: transparent;\n",
              "      border-right-color: var(--fill-color);\n",
              "      border-top-color: var(--fill-color);\n",
              "    }\n",
              "    60% {\n",
              "      border-color: transparent;\n",
              "      border-right-color: var(--fill-color);\n",
              "    }\n",
              "    80% {\n",
              "      border-color: transparent;\n",
              "      border-right-color: var(--fill-color);\n",
              "      border-bottom-color: var(--fill-color);\n",
              "    }\n",
              "    90% {\n",
              "      border-color: transparent;\n",
              "      border-bottom-color: var(--fill-color);\n",
              "    }\n",
              "  }\n",
              "</style>\n",
              "\n",
              "  <script>\n",
              "    async function quickchart(key) {\n",
              "      const quickchartButtonEl =\n",
              "        document.querySelector('#' + key + ' button');\n",
              "      quickchartButtonEl.disabled = true;  // To prevent multiple clicks.\n",
              "      quickchartButtonEl.classList.add('colab-df-spinner');\n",
              "      try {\n",
              "        const charts = await google.colab.kernel.invokeFunction(\n",
              "            'suggestCharts', [key], {});\n",
              "      } catch (error) {\n",
              "        console.error('Error during call to suggestCharts:', error);\n",
              "      }\n",
              "      quickchartButtonEl.classList.remove('colab-df-spinner');\n",
              "      quickchartButtonEl.classList.add('colab-df-quickchart-complete');\n",
              "    }\n",
              "    (() => {\n",
              "      let quickchartButtonEl =\n",
              "        document.querySelector('#df-f66be3a0-2903-4125-a5df-3c350c882e58 button');\n",
              "      quickchartButtonEl.style.display =\n",
              "        google.colab.kernel.accessAllowed ? 'block' : 'none';\n",
              "    })();\n",
              "  </script>\n",
              "</div>\n",
              "\n",
              "    </div>\n",
              "  </div>\n"
            ],
            "application/vnd.google.colaboratory.intrinsic+json": {
              "type": "dataframe",
              "variable_name": "df_filtered",
              "repr_error": "0"
            }
          },
          "metadata": {},
          "execution_count": 8
        }
      ],
      "source": [
        "import pandas as pd\n",
        "import numpy as np\n",
        "\n",
        "df = pd.read_csv(\"A3 Experimental Data - Sheet1.csv\")\n",
        "df = df.iloc[:, :-1]\n",
        "\n",
        "df_filtered = df[(df['Id'] != '1zspd') & ((df['GuessValue'] != 50) | (df['Error'] != 0))]  # removed '1zspd' due to them being an extreme outlier for time considerations\n",
        "df_filtered = df_filtered[df_filtered.groupby('Id')['Id'].transform('count') >= 50]\n",
        "\n",
        "df_filtered.head()"
      ]
    },
    {
      "cell_type": "code",
      "execution_count": 9,
      "id": "6cfcf74b",
      "metadata": {
        "id": "6cfcf74b",
        "outputId": "a0d3170d-1804-4269-a8ee-a4bc2f5f2f6d",
        "colab": {
          "base_uri": "https://localhost:8080/"
        }
      },
      "outputs": [
        {
          "output_type": "stream",
          "name": "stdout",
          "text": [
            "Radar    249\n",
            "Pie      248\n",
            "Bar      242\n",
            "Name: Type, dtype: int64\n",
            "Radar    218\n",
            "Pie      218\n",
            "Bar      217\n",
            "Name: Type, dtype: int64\n"
          ]
        }
      ],
      "source": [
        "print(df[\"Type\"].value_counts())\n",
        "print(df_filtered[\"Type\"].value_counts())"
      ]
    },
    {
      "cell_type": "code",
      "execution_count": 80,
      "id": "7a150b1c",
      "metadata": {
        "id": "7a150b1c",
        "outputId": "74c8e05e-a52a-4a0d-94ac-42c08df98cc3",
        "colab": {
          "base_uri": "https://localhost:8080/"
        }
      },
      "outputs": [
        {
          "output_type": "stream",
          "name": "stdout",
          "text": [
            "           mean       std\n",
            "Type                     \n",
            "Bar    1.654909  1.819077\n",
            "Pie    2.010769  1.858394\n",
            "Radar  2.673363  1.859343\n",
            "+-------+--------------------+--------------------+\n",
            "| Type  |        mean        |        std         |\n",
            "+-------+--------------------+--------------------+\n",
            "|  Bar  | 1.6549090909090909 | 1.8190773643391924 |\n",
            "|  Pie  | 2.0107692307692306 | 1.858394430722354  |\n",
            "| Radar | 2.6733632286995515 | 1.8593430710223693 |\n",
            "+-------+--------------------+--------------------+\n"
          ]
        }
      ],
      "source": [
        "from tabulate import tabulate\n",
        "\n",
        "print(df.groupby(\"Type\")[\"Error\"].agg([\"mean\", \"std\"]))\n",
        "print(tabulate(df_filtered.groupby(\"Type\")[\"Error\"].agg([\"mean\", \"std\"]), headers=\"keys\", tablefmt=\"pretty\"))\n",
        "\n",
        "df = df_filtered"
      ]
    },
    {
      "cell_type": "code",
      "execution_count": 81,
      "id": "f4556369",
      "metadata": {
        "id": "f4556369",
        "colab": {
          "base_uri": "https://localhost:8080/"
        },
        "outputId": "3525355e-7736-41c6-e02f-f2922393c784"
      },
      "outputs": [
        {
          "output_type": "execute_result",
          "data": {
            "text/plain": [
              "58    1.43\n",
              "59    2.81\n",
              "60    2.54\n",
              "61   -2.16\n",
              "62    3.14\n",
              "Name: Error, dtype: float64"
            ]
          },
          "metadata": {},
          "execution_count": 81
        }
      ],
      "source": [
        "pie = df[df['Type'] == 'Pie']['Error']\n",
        "radar = df[df['Type'] == 'Radar']['Error']\n",
        "bar = df[df['Type'] == 'Bar']['Error']\n",
        "pie.head()"
      ]
    },
    {
      "cell_type": "code",
      "execution_count": 82,
      "id": "9ed88439",
      "metadata": {
        "id": "9ed88439",
        "outputId": "fb91b631-6540-41d9-b11a-99f66aaf4f8c",
        "colab": {
          "base_uri": "https://localhost:8080/"
        }
      },
      "outputs": [
        {
          "output_type": "stream",
          "name": "stdout",
          "text": [
            "Bootstrap Lower, Mean, and Upper Bound for Pie Error: (2.0081097285067875, 2.01313185520362, 2.024940045248869)\n",
            "Bootstrap Lower, Mean, and Upper Bound for Radar Error: (2.6694428251121076, 2.6729277130044844, 2.68154932735426)\n",
            "Bootstrap Lower, Mean, and Upper Bound for Bar Error: (1.6536863636363635, 1.662924, 1.6715909090909091)\n"
          ]
        }
      ],
      "source": [
        "from scipy.stats import sem\n",
        "from sklearn.utils import resample\n",
        "\n",
        "\n",
        "def bootstrap_confidence_interval(data, n_bootstrap, alpha):\n",
        "    bootstrap_errors = []\n",
        "    for Vis in range(n_bootstrap):\n",
        "        sample = resample(data)\n",
        "        error_mean = sample.mean()\n",
        "        bootstrap_errors.append(error_mean)\n",
        "\n",
        "    mean_error = np.mean(bootstrap_errors)\n",
        "    lower_bound = np.percentile(bootstrap_errors, (1-alpha)/2 * 100)\n",
        "    upper_bound = np.percentile(bootstrap_errors, (1+alpha)/2 * 100)\n",
        "    return lower_bound, mean_error, upper_bound\n",
        "\n",
        "n_bootstrap = 1000\n",
        "alpha = 0.05\n",
        "\n",
        "pie_ci = bootstrap_confidence_interval(pie, n_bootstrap, alpha)\n",
        "radar_ci = bootstrap_confidence_interval(radar, n_bootstrap, alpha)\n",
        "bar_ci = bootstrap_confidence_interval(bar, n_bootstrap, alpha)\n",
        "\n",
        "print(\"Bootstrap Lower, Mean, and Upper Bound for Pie Error:\", pie_ci)\n",
        "print(\"Bootstrap Lower, Mean, and Upper Bound for Radar Error:\", radar_ci)\n",
        "print(\"Bootstrap Lower, Mean, and Upper Bound for Bar Error:\", bar_ci)"
      ]
    },
    {
      "cell_type": "markdown",
      "id": "0b9be583",
      "metadata": {
        "id": "0b9be583"
      },
      "source": [
        "# Confidence Interval Visualization"
      ]
    },
    {
      "cell_type": "code",
      "execution_count": 83,
      "id": "24226438",
      "metadata": {
        "scrolled": true,
        "id": "24226438",
        "outputId": "f567ecd1-cfcd-40ca-b127-9da927236748",
        "colab": {
          "base_uri": "https://localhost:8080/",
          "height": 362
        }
      },
      "outputs": [
        {
          "output_type": "stream",
          "name": "stderr",
          "text": [
            "<ipython-input-83-093303bd4a46>:21: UserWarning: color is redundantly defined by the 'color' keyword argument and the fmt string \"ro\" (-> color='r'). The keyword argument will take precedence.\n",
            "  plt.plot(mean, y, 'ro', color='black')\n"
          ]
        },
        {
          "output_type": "display_data",
          "data": {
            "text/plain": [
              "<Figure size 800x300 with 1 Axes>"
            ],
            "image/png": "[encoded data removed]"
          },
          "metadata": {}
        }
      ],
      "source": [
        "import pandas as pd\n",
        "from matplotlib import pyplot as plt\n",
        "\n",
        "data_dict = {}\n",
        "data_dict['category'] = ['Bar', 'Pie', 'Radar']\n",
        "data_dict['lower'] = [[bar_ci[0]],[pie_ci[0]], [radar_ci[0]]]\n",
        "data_dict['mean'] = [[bar_ci[1]],[pie_ci[1]],[radar_ci[1]]]\n",
        "data_dict['upper'] = [[bar_ci[2]], [pie_ci[2]],[radar_ci[2]]]\n",
        "dataset = pd.DataFrame(data_dict)\n",
        "\n",
        "\n",
        "category_order = ['Radar', 'Pie', 'Bar']\n",
        "dataset['category'] = pd.Categorical(dataset['category'], categories=category_order, ordered=True)\n",
        "dataset = dataset.sort_values(by='category')\n",
        "\n",
        "plt.figure(figsize=(8, 3))\n",
        "\n",
        "for lower, mean, upper, y, label in zip(dataset['lower'], dataset['mean'], dataset['upper'], range(len(dataset)), dataset['category']):\n",
        "    plt.vlines(lower, y - 0.1, y + 0.1, colors='black', linestyles='solid')\n",
        "    plt.vlines(upper, y - 0.1, y + 0.1, colors='black', linestyles='solid')\n",
        "    plt.plot(mean, y, 'ro', color='black')\n",
        "    plt.hlines(y, lower, upper, colors='black', linestyles='solid')\n",
        "\n",
        "plt.yticks(range(len(dataset)), list(dataset['category']))\n",
        "plt.xlabel('Log Error')\n",
        "plt.ylabel('Category')\n",
        "plt.title('Bootstrap Confidence Intervals')\n",
        "plt.ylim(-0.5, len(dataset) - 0.5)\n",
        "plt.xticks(fontsize=8)\n",
        "\n",
        "ticks = [1.75, 2.0, 2.25, 2.5, 2.75]\n",
        "plt.xticks(ticks)\n",
        "\n",
        "# plt.grid(True)\n",
        "plt.tight_layout()\n",
        "plt.show()"
      ]
    },
    {
      "cell_type": "code",
      "source": [],
      "metadata": {
        "id": "ojd4DYsiiVi3"
      },
      "id": "ojd4DYsiiVi3",
      "execution_count": null,
      "outputs": []
    },
    {
      "cell_type": "markdown",
      "id": "46e81071",
      "metadata": {
        "id": "46e81071"
      },
      "source": [
        "# Time"
      ]
    },
    {
      "cell_type": "code",
      "execution_count": 92,
      "id": "7b906bc8",
      "metadata": {
        "id": "7b906bc8",
        "outputId": "96dc7824-88c8-4330-81c7-5856c160ba71",
        "colab": {
          "base_uri": "https://localhost:8080/"
        }
      },
      "outputs": [
        {
          "output_type": "stream",
          "name": "stdout",
          "text": [
            "        Id                Date   Type  TrueValue  GuessValue  Error  Point1  \\\n",
            "287  1harg 2024-02-11 22:37:44    Bar  14.925373           5   3.33      10   \n",
            "288  1harg 2024-02-11 22:37:57    Bar  89.743590          25   6.02      35   \n",
            "289  1harg 2024-02-11 22:38:38  Radar  86.904762          80   2.81      73   \n",
            "290  1harg 2024-02-11 22:38:47    Bar  60.526316          50   3.41      46   \n",
            "291  1harg 2024-02-11 22:39:06  Radar  95.121951          30   6.03      39   \n",
            "292  1harg 2024-02-11 22:39:16    Pie  10.606061           9   0.79       7   \n",
            "293  1harg 2024-02-11 22:39:25    Pie   8.045977           5   1.66       7   \n",
            "294  1harg 2024-02-11 22:39:32    Bar   6.410256           2   2.18       5   \n",
            "295  1harg 2024-02-11 22:39:37    Pie  18.367347          18  -1.02       9   \n",
            "296  1harg 2024-02-11 22:39:43    Bar   4.411765           2   1.34       3   \n",
            "297  1harg 2024-02-11 22:39:48    Bar   9.090909           2   2.85       2   \n",
            "298  1harg 2024-02-11 22:39:54    Pie   3.947368           4  -2.49       3   \n",
            "299  1harg 2024-02-11 22:40:04  Radar  11.688312           8   1.93       9   \n",
            "300  1harg 2024-02-11 22:40:12    Pie  14.285714          16   0.88       8   \n",
            "301  1harg 2024-02-11 22:40:19    Pie   3.448276           5   0.75       3   \n",
            "302  1harg 2024-02-11 22:40:24    Bar  20.000000          16   2.04      17   \n",
            "303  1harg 2024-02-11 22:40:34  Radar  96.000000          44   5.70      48   \n",
            "304  1harg 2024-02-11 22:40:42  Radar  11.235955           7   2.12      10   \n",
            "305  1harg 2024-02-11 22:40:50    Bar   3.061224           2   0.25       3   \n",
            "306  1harg 2024-02-11 22:40:59    Pie   9.302326          16   2.77       8   \n",
            "\n",
            "     Point2  TimePerGuess  \n",
            "287      67          12.0  \n",
            "288      39          13.0  \n",
            "289      84          41.0  \n",
            "290      76           9.0  \n",
            "291      41          19.0  \n",
            "292      66          10.0  \n",
            "293      87           9.0  \n",
            "294      78           7.0  \n",
            "295      49           5.0  \n",
            "296      68           6.0  \n",
            "297      22           5.0  \n",
            "298      76           6.0  \n",
            "299      77          10.0  \n",
            "300      56           8.0  \n",
            "301      87           7.0  \n",
            "302      85           5.0  \n",
            "303      50          10.0  \n",
            "304      89           8.0  \n",
            "305      98           8.0  \n",
            "306      86           9.0  \n",
            "Type\n",
            "Bar      13.368664\n",
            "Pie      21.536697\n",
            "Radar    14.591743\n",
            "Name: TimePerGuess, dtype: float64\n"
          ]
        }
      ],
      "source": [
        "\n",
        "df = pd.read_csv(\"A3 Experimental Data - Sheet1.csv\")\n",
        "df = df.iloc[: , :-1]\n",
        "\n",
        "df_filtered = df[(df['Id'] != '1zspd')]# removed '1zspd' due to them being an extreme outlier for time considerations\n",
        "df_filtered = df_filtered[df_filtered.groupby('Id')['Id'].transform('count') >= 50]\n",
        "df=df_filtered\n",
        "\n",
        "\n",
        "df['Date'] = pd.to_datetime(df['Date'])\n",
        "df = df.sort_values(by=['Id', 'Date'])\n",
        "df['TimePerGuess'] = df.groupby('Id')['Date'].diff().dt.total_seconds()\n",
        "df.dropna(subset=['TimePerGuess'], inplace=True)\n",
        "\n",
        "# Time for each guess relative to the previous guess\n",
        "\n",
        "print(df.head(20))\n",
        "\n",
        "print(df.groupby('Type')['TimePerGuess'].mean())"
      ]
    },
    {
      "cell_type": "code",
      "execution_count": 85,
      "id": "89315576",
      "metadata": {
        "id": "89315576",
        "outputId": "b0646ff8-47a5-4eed-dbec-2f5066d434fb",
        "colab": {
          "base_uri": "https://localhost:8080/"
        }
      },
      "outputs": [
        {
          "output_type": "stream",
          "name": "stdout",
          "text": [
            "Bootstrap Lower, Mean, and Upper Bound for Pie Time: (21.128440366972477, 21.59434862385321, 21.424197247706424)\n",
            "Bootstrap Lower, Mean, and Upper Bound for Radar Time: (14.48165137614679, 14.553128440366972, 14.55045871559633)\n",
            "Bootstrap Lower, Mean, and Upper Bound for Bar Time: (13.317972350230415, 13.373594470046084, 13.40552995391705)\n"
          ]
        }
      ],
      "source": [
        "pieT = df[df['Type'] == 'Pie']['TimePerGuess']\n",
        "radarT = df[df['Type'] == 'Radar']['TimePerGuess']\n",
        "barT = df[df['Type'] == 'Bar']['TimePerGuess']\n",
        "\n",
        "pie_ci = bootstrap_confidence_interval(pieT, n_bootstrap, alpha)\n",
        "radar_ci = bootstrap_confidence_interval(radarT, n_bootstrap, alpha)\n",
        "bar_ci = bootstrap_confidence_interval(barT, n_bootstrap, alpha)\n",
        "\n",
        "print(\"Bootstrap Lower, Mean, and Upper Bound for Pie Time:\", pie_ci)\n",
        "print(\"Bootstrap Lower, Mean, and Upper Bound for Radar Time:\", radar_ci)\n",
        "print(\"Bootstrap Lower, Mean, and Upper Bound for Bar Time:\", bar_ci)"
      ]
    },
    {
      "cell_type": "code",
      "execution_count": 86,
      "id": "11bb86f6",
      "metadata": {
        "id": "11bb86f6",
        "outputId": "71cee5ec-acd6-4ab1-e51a-076f325abaa5",
        "colab": {
          "base_uri": "https://localhost:8080/",
          "height": 362
        }
      },
      "outputs": [
        {
          "output_type": "stream",
          "name": "stderr",
          "text": [
            "<ipython-input-86-de2042122b24>:20: UserWarning: color is redundantly defined by the 'color' keyword argument and the fmt string \"ro\" (-> color='r'). The keyword argument will take precedence.\n",
            "  plt.plot(mean, y, 'ro', color='black')\n"
          ]
        },
        {
          "output_type": "display_data",
          "data": {
            "text/plain": [
              "<Figure size 800x300 with 1 Axes>"
            ],
            "image/png": "[encoded data removed]"
          },
          "metadata": {}
        }
      ],
      "source": [
        "data_dict = {}\n",
        "data_dict['category'] = ['Bar', 'Pie', 'Radar']\n",
        "data_dict['lower'] = [[bar_ci[0]],[pie_ci[0]], [radar_ci[0]]]\n",
        "data_dict['mean'] = [[bar_ci[1]],[pie_ci[1]],[radar_ci[1]]]\n",
        "data_dict['upper'] = [[bar_ci[2]], [pie_ci[2]],[radar_ci[2]]]\n",
        "dataset = pd.DataFrame(data_dict)\n",
        "\n",
        "\n",
        "category_order = ['Bar', 'Radar', 'Pie']\n",
        "dataset['category'] = pd.Categorical(dataset['category'], categories=category_order, ordered=True)\n",
        "dataset = dataset.sort_values(by='category')\n",
        "\n",
        "plt.figure(figsize=(8, 3))\n",
        "\n",
        "for lower, mean, upper, y, label in zip(dataset['lower'], dataset['mean'], dataset['upper'], range(len(dataset)), dataset['category']):\n",
        "    plt.vlines(lower, y - 0.1, y + 0.1, colors='black', linestyles='solid')\n",
        "    plt.vlines(upper, y - 0.1, y + 0.1, colors='black', linestyles='solid')\n",
        "#     plt.text(lower - 0.03, y + 0.05, f\"{lower:.2f}\", color='orange', fontsize=8)\n",
        "#     plt.text(upper - 0.03, y + 0.05, f\"{upper:.2f}\", color='orange', fontsize=8)\n",
        "    plt.plot(mean, y, 'ro', color='black')\n",
        "#     plt.text(mean - 0.03, y - 0.1, f\"{mean:.2f}\", color='green', fontsize=8)\n",
        "    plt.hlines(y, lower, upper, colors='black', linestyles='solid')\n",
        "\n",
        "plt.yticks(range(len(dataset)), list(dataset['category']))\n",
        "plt.xlabel('Log Error')\n",
        "plt.ylabel('Category')\n",
        "plt.title('Bootstrap Confidence Intervals')\n",
        "plt.ylim(-0.5, len(dataset) - 0.5)\n",
        "plt.xticks(fontsize=8)\n",
        "\n",
        "# plt.grid(True)\n",
        "plt.tight_layout()\n",
        "plt.show()"
      ]
    },
    {
      "cell_type": "markdown",
      "id": "043b71d5",
      "metadata": {
        "id": "043b71d5"
      },
      "source": [
        "# Outliers"
      ]
    },
    {
      "cell_type": "code",
      "execution_count": 74,
      "id": "8c1fbd92",
      "metadata": {
        "id": "8c1fbd92",
        "outputId": "1d1f7361-7a84-47b3-ad36-7c619f1b3f44",
        "colab": {
          "base_uri": "https://localhost:8080/"
        }
      },
      "outputs": [
        {
          "output_type": "stream",
          "name": "stdout",
          "text": [
            "Outliers:\n",
            "        Id                Date   Type  TrueValue  GuessValue  Error  Point1  \\\n",
            "562  5gzdh 2024-02-12 17:28:24  Radar  63.829787          40   4.58      30   \n",
            "576  5gzdh 2024-02-12 17:32:11    Pie  54.347826          70   3.98      25   \n",
            "550  70xns 2024-02-12 16:22:32    Bar   3.174603           5   0.96       2   \n",
            "115  aizcu 2024-02-11 14:32:58  Radar  16.666667          16  -0.34      12   \n",
            "438  oh1ka 2024-02-12 15:16:28    Pie  30.000000           3   4.76      18   \n",
            "\n",
            "     Point2  TimePerGuess  \n",
            "562      47         117.0  \n",
            "576      46          75.0  \n",
            "550      63          76.0  \n",
            "115      72          81.0  \n",
            "438      60        1449.0  \n"
          ]
        }
      ],
      "source": [
        "\n",
        "\n",
        "\n",
        "\n",
        "Q1 = df['TimePerGuess'].quantile(0.05)\n",
        "Q3 = df['TimePerGuess'].quantile(0.95)\n",
        "\n",
        "IQR = Q3 - Q1\n",
        "\n",
        "lower_bound = Q1 - 1.5 * IQR\n",
        "upper_bound = Q3 + 1.5 * IQR\n",
        "\n",
        "# Find outliers\n",
        "outliers = df[(df['TimePerGuess'] < lower_bound) | (df['TimePerGuess'] > upper_bound)]\n",
        "\n",
        "print(\"Outliers:\")\n",
        "print(outliers)"
      ]
    },
    {
      "cell_type": "code",
      "execution_count": 76,
      "id": "331304ad",
      "metadata": {
        "id": "331304ad",
        "outputId": "cde74cf6-e7cc-4ee2-f922-fc6c5ee2e044",
        "colab": {
          "base_uri": "https://localhost:8080/"
        }
      },
      "outputs": [
        {
          "output_type": "stream",
          "name": "stdout",
          "text": [
            "        Id                Date   Type  TrueValue  GuessValue  Error  Point1  \\\n",
            "5    1zspd  2/11/2024 13:18:51    Bar  74.418605          50   0.00      32   \n",
            "6    1zspd  2/11/2024 13:19:06    Bar  74.418605          28   5.54      32   \n",
            "7    1zspd  2/11/2024 13:19:22    Pie  61.363636          10   5.69      27   \n",
            "8    1zspd  2/11/2024 13:19:34    Bar  92.000000           5   6.45      69   \n",
            "9    1zspd  2/11/2024 13:19:46  Radar  92.553191           5   6.45      87   \n",
            "..     ...                 ...    ...        ...         ...    ...     ...   \n",
            "410  1zspd  2/12/2024 14:04:10    Pie  27.027027          25   1.11      10   \n",
            "423  1zspd  2/12/2024 14:05:59  Radar  79.545455          98   4.22      35   \n",
            "430  1zspd  2/12/2024 14:06:39    Bar  54.545455          55  -0.79      42   \n",
            "432  1zspd  2/12/2024 14:06:48    Pie  18.918919          34   3.93      14   \n",
            "434  1zspd  2/12/2024 14:07:00    Pie  61.111111          50   3.49      11   \n",
            "\n",
            "     Point2  \n",
            "5        43  \n",
            "6        43  \n",
            "7        44  \n",
            "8        75  \n",
            "9        94  \n",
            "..      ...  \n",
            "410      37  \n",
            "423      44  \n",
            "430      77  \n",
            "432      74  \n",
            "434      18  \n",
            "\n",
            "[61 rows x 8 columns]\n"
          ]
        }
      ],
      "source": [
        "df = pd.read_csv(\"A3 Experimental Data - Sheet1.csv\")\n",
        "df = df.iloc[: , :-1]\n",
        "\n",
        "id = \"1zspd\"\n",
        "filtered_df = df[df['Id'] == id]\n",
        "\n",
        "# Print the filtered DataFrame\n",
        "print(filtered_df)"
      ]
    },
    {
      "cell_type": "code",
      "execution_count": null,
      "id": "aa688094",
      "metadata": {
        "id": "aa688094"
      },
      "outputs": [],
      "source": []
    }
  ],
  "metadata": {
    "kernelspec": {
      "display_name": "Python 3 (ipykernel)",
      "language": "python",
      "name": "python3"
    },
    "language_info": {
      "codemirror_mode": {
        "name": "ipython",
        "version": 3
      },
      "file_extension": ".py",
      "mimetype": "text/x-python",
      "name": "python",
      "nbconvert_exporter": "python",
      "pygments_lexer": "ipython3",
      "version": "3.9.13"
    },
    "colab": {
      "provenance": []
    }
  },
  "nbformat": 4,
  "nbformat_minor": 5
}